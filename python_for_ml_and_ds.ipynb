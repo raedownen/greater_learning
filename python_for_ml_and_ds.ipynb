{
 "cells": [
  {
   "cell_type": "code",
   "execution_count": 73,
   "id": "a58f6049",
   "metadata": {},
   "outputs": [],
   "source": [
    "import numpy as np\n",
    "import pandas as pd\n",
    "from matplotlib import pyplot as plt\n",
    "import seaborn as sns"
   ]
  },
  {
   "cell_type": "code",
   "execution_count": 2,
   "id": "659348fd",
   "metadata": {},
   "outputs": [],
   "source": [
    "# create list\n",
    "person_height = [5.2, 5.4, 4.4, 4.5, 5.6, 6]\n",
    "person_weight = [81, 55, 65, 70, 45, 44]\n",
    "\n",
    "# create arrays\n",
    "person_height = np.array(person_height)\n",
    "person_weight = np.array(person_weight)\n"
   ]
  },
  {
   "cell_type": "code",
   "execution_count": 3,
   "id": "95d1d7c8",
   "metadata": {},
   "outputs": [
    {
     "data": {
      "text/plain": [
       "array([5.2, 5.4, 4.4, 4.5, 5.6, 6. ])"
      ]
     },
     "execution_count": 3,
     "metadata": {},
     "output_type": "execute_result"
    }
   ],
   "source": [
    "person_height"
   ]
  },
  {
   "cell_type": "code",
   "execution_count": 4,
   "id": "4f740fd0",
   "metadata": {},
   "outputs": [
    {
     "data": {
      "text/plain": [
       "array([81, 55, 65, 70, 45, 44])"
      ]
     },
     "execution_count": 4,
     "metadata": {},
     "output_type": "execute_result"
    }
   ],
   "source": [
    "person_weight"
   ]
  },
  {
   "cell_type": "code",
   "execution_count": 5,
   "id": "47cb6c1c",
   "metadata": {},
   "outputs": [
    {
     "name": "stdout",
     "output_type": "stream",
     "text": [
      "<class 'numpy.ndarray'>\n"
     ]
    }
   ],
   "source": [
    "print(type(person_weight))"
   ]
  },
  {
   "cell_type": "code",
   "execution_count": 6,
   "id": "bfc6d004",
   "metadata": {},
   "outputs": [
    {
     "name": "stdout",
     "output_type": "stream",
     "text": [
      "[ 11  22  33  24  57 473]\n"
     ]
    }
   ],
   "source": [
    "my_array = np.array([11, 22, 33, 24, 57, 473])\n",
    "print(my_array)"
   ]
  },
  {
   "cell_type": "code",
   "execution_count": 8,
   "id": "68b7472a",
   "metadata": {},
   "outputs": [
    {
     "name": "stdout",
     "output_type": "stream",
     "text": [
      "11\n",
      "33\n"
     ]
    }
   ],
   "source": [
    "#indexing\n",
    "#get 1st element\n",
    "#indexing starts from '0'\n",
    "print(my_array[0])\n",
    "\n",
    "#get 3rd element\n",
    "print(my_array[2])"
   ]
  },
  {
   "cell_type": "code",
   "execution_count": 9,
   "id": "422321d1",
   "metadata": {},
   "outputs": [
    {
     "data": {
      "text/plain": [
       "array([[101, 231, 321],\n",
       "       [412, 512, 622],\n",
       "       [712, 812, 912]])"
      ]
     },
     "execution_count": 9,
     "metadata": {},
     "output_type": "execute_result"
    }
   ],
   "source": [
    "#indexing in 2 dimensions, list of lists, array or arrays\n",
    "my_array =np.array([[101, 231, 321], \n",
    "                    [412, 512, 622], \n",
    "                    [712, 812, 912]])\n",
    "my_array"
   ]
  },
  {
   "cell_type": "code",
   "execution_count": 11,
   "id": "a36ae862",
   "metadata": {},
   "outputs": [
    {
     "name": "stdout",
     "output_type": "stream",
     "text": [
      "812\n"
     ]
    }
   ],
   "source": [
    "#Retrieve an element of the 2D array using two indices i and j.  \n",
    "#i selects the row, and j selects the column:\n",
    "#get the element in the 3rd row and 2nd column\n",
    "print(my_array[2,1])"
   ]
  },
  {
   "cell_type": "code",
   "execution_count": 12,
   "id": "26769808",
   "metadata": {},
   "outputs": [
    {
     "name": "stdout",
     "output_type": "stream",
     "text": [
      "812\n"
     ]
    }
   ],
   "source": [
    "# same request as above, but use brackets\n",
    "print(my_array[2][1])"
   ]
  },
  {
   "cell_type": "code",
   "execution_count": 13,
   "id": "61dfad3c",
   "metadata": {},
   "outputs": [
    {
     "name": "stdout",
     "output_type": "stream",
     "text": [
      "[712 812 912]\n"
     ]
    }
   ],
   "source": [
    "#pick a row or column\n",
    "print(my_array[2])"
   ]
  },
  {
   "cell_type": "code",
   "execution_count": 15,
   "id": "ae8a4bd9",
   "metadata": {},
   "outputs": [
    {
     "name": "stdout",
     "output_type": "stream",
     "text": [
      "[321 622 912]\n"
     ]
    }
   ],
   "source": [
    "#pick a row or column\n",
    "print(my_array[:,2])"
   ]
  },
  {
   "cell_type": "code",
   "execution_count": 17,
   "id": "db24a884",
   "metadata": {},
   "outputs": [],
   "source": [
    "#slicing a 1D array\n",
    "my_array =[101, 121, 112, 123, 114]"
   ]
  },
  {
   "cell_type": "code",
   "execution_count": 19,
   "id": "dd7771f6",
   "metadata": {},
   "outputs": [
    {
     "data": {
      "text/plain": [
       "[121, 112, 123]"
      ]
     },
     "execution_count": 19,
     "metadata": {},
     "output_type": "execute_result"
    }
   ],
   "source": [
    "#pick 2nd, 3rd, and 4th element\n",
    "new_array = my_array[1:4]\n",
    "new_array"
   ]
  },
  {
   "cell_type": "code",
   "execution_count": 20,
   "id": "49fecd1c",
   "metadata": {},
   "outputs": [
    {
     "data": {
      "text/plain": [
       "[101, 121, 112]"
      ]
     },
     "execution_count": 20,
     "metadata": {},
     "output_type": "execute_result"
    }
   ],
   "source": [
    "#slice notation specifies a start and an end value [start:end], \n",
    "#where 'start' is inclusive, but 'end'is exclusive.\n",
    "\n",
    "#first 3 elements \n",
    "c= my_array[:3]\n",
    "c"
   ]
  },
  {
   "cell_type": "code",
   "execution_count": 21,
   "id": "04506f7f",
   "metadata": {},
   "outputs": [
    {
     "data": {
      "text/plain": [
       "[112, 123, 114]"
      ]
     },
     "execution_count": 21,
     "metadata": {},
     "output_type": "execute_result"
    }
   ],
   "source": [
    "# all elements from 112\n",
    "d = my_array[2:]\n",
    "d"
   ]
  },
  {
   "cell_type": "code",
   "execution_count": 23,
   "id": "de4d84a7",
   "metadata": {},
   "outputs": [
    {
     "data": {
      "text/plain": [
       "[101, 121, 112, 123, 114]"
      ]
     },
     "execution_count": 23,
     "metadata": {},
     "output_type": "execute_result"
    }
   ],
   "source": [
    "# get complete array\n",
    "e = my_array[:]\n",
    "e"
   ]
  },
  {
   "cell_type": "code",
   "execution_count": 24,
   "id": "2c582de1",
   "metadata": {},
   "outputs": [
    {
     "data": {
      "text/plain": [
       "array([[101, 131, 122, 113, 143],\n",
       "       [145, 165, 137, 318, 193],\n",
       "       [240, 241, 252, 253, 324],\n",
       "       [225, 126, 727, 928, 129]])"
      ]
     },
     "execution_count": 24,
     "metadata": {},
     "output_type": "execute_result"
    }
   ],
   "source": [
    "#slicing 2D array (matrix)\n",
    "my_array = np.array([[101, 131, 122, 113, 143], \n",
    "                     [145, 165, 137, 318, 193], \n",
    "                     [240, 241, 252, 253, 324],\n",
    "                     [225, 126, 727, 928, 129]])\n",
    "\n",
    "my_array"
   ]
  },
  {
   "cell_type": "code",
   "execution_count": 25,
   "id": "4fb28de7",
   "metadata": {},
   "outputs": [
    {
     "name": "stdout",
     "output_type": "stream",
     "text": [
      "[[137 318]\n",
      " [252 253]\n",
      " [727 928]]\n"
     ]
    }
   ],
   "source": [
    "#select all rows except 1st\n",
    "#select 3rd and 4th column\n",
    "print(my_array[1:,2:4])"
   ]
  },
  {
   "cell_type": "code",
   "execution_count": null,
   "id": "b6820437",
   "metadata": {},
   "outputs": [],
   "source": [
    "# The index returns an element of the array, \n",
    "# the slice returns a list of elements"
   ]
  },
  {
   "cell_type": "code",
   "execution_count": null,
   "id": "7afb14e8",
   "metadata": {},
   "outputs": [],
   "source": [
    "#operations of an array"
   ]
  },
  {
   "cell_type": "code",
   "execution_count": 26,
   "id": "4dd555e6",
   "metadata": {},
   "outputs": [],
   "source": [
    "my_array1 = np.array([120, 230, 310, 410, 150])\n",
    "my_array2 = np.arange(5)"
   ]
  },
  {
   "cell_type": "code",
   "execution_count": 27,
   "id": "f590aa5b",
   "metadata": {},
   "outputs": [
    {
     "data": {
      "text/plain": [
       "array([120, 231, 312, 413, 154])"
      ]
     },
     "execution_count": 27,
     "metadata": {},
     "output_type": "execute_result"
    }
   ],
   "source": [
    "#add the 2 arrays\n",
    "my_array3 = my_array1 + my_array2\n",
    "my_array3"
   ]
  },
  {
   "cell_type": "code",
   "execution_count": 28,
   "id": "b0ca83eb",
   "metadata": {},
   "outputs": [
    {
     "data": {
      "text/plain": [
       "array([120, 230, 310, 410, 150])"
      ]
     },
     "execution_count": 28,
     "metadata": {},
     "output_type": "execute_result"
    }
   ],
   "source": [
    "#WTF how...this is how\n",
    "my_array1"
   ]
  },
  {
   "cell_type": "code",
   "execution_count": 29,
   "id": "81065fb7",
   "metadata": {},
   "outputs": [
    {
     "data": {
      "text/plain": [
       "array([0, 1, 2, 3, 4])"
      ]
     },
     "execution_count": 29,
     "metadata": {},
     "output_type": "execute_result"
    }
   ],
   "source": [
    "#continued\n",
    "my_array2"
   ]
  },
  {
   "cell_type": "code",
   "execution_count": null,
   "id": "852aa738",
   "metadata": {},
   "outputs": [],
   "source": [
    "#continued\n",
    "#np.arange(5)\n",
    "#was a function to great an array with a range of 5 starting from '0'\n",
    "#so  this was the result array([0, 1, 2, 3, 4])\n",
    "# and when you add the 2 arrays together\n",
    "#   [120, 230, 310, 410, 150]\n",
    "#  +[0, 1, 2, 3, 4]\n",
    "# = 121, 231, 312, 413, 154"
   ]
  },
  {
   "cell_type": "code",
   "execution_count": 30,
   "id": "6af84db6",
   "metadata": {},
   "outputs": [
    {
     "ename": "ValueError",
     "evalue": "operands could not be broadcast together with shapes (5,) (4,) ",
     "output_type": "error",
     "traceback": [
      "\u001b[0;31m---------------------------------------------------------------------------\u001b[0m",
      "\u001b[0;31mValueError\u001b[0m                                Traceback (most recent call last)",
      "Input \u001b[0;32mIn [30]\u001b[0m, in \u001b[0;36m<cell line: 2>\u001b[0;34m()\u001b[0m\n\u001b[1;32m      1\u001b[0m my_array4 \u001b[38;5;241m=\u001b[39m np\u001b[38;5;241m.\u001b[39marray([\u001b[38;5;241m1\u001b[39m,\u001b[38;5;241m2\u001b[39m,\u001b[38;5;241m3\u001b[39m,\u001b[38;5;241m5\u001b[39m])\n\u001b[0;32m----> 2\u001b[0m \u001b[43mmy_array1\u001b[49m\u001b[43m \u001b[49m\u001b[38;5;241;43m+\u001b[39;49m\u001b[43m \u001b[49m\u001b[43mmy_array4\u001b[49m\n",
      "\u001b[0;31mValueError\u001b[0m: operands could not be broadcast together with shapes (5,) (4,) "
     ]
    }
   ],
   "source": [
    "my_array4 = np.array([1,2,3,5])\n",
    "my_array1 + my_array4"
   ]
  },
  {
   "cell_type": "code",
   "execution_count": 31,
   "id": "5bd467a7",
   "metadata": {},
   "outputs": [
    {
     "data": {
      "text/plain": [
       "array([120, 230, 310, 410, 150])"
      ]
     },
     "execution_count": 31,
     "metadata": {},
     "output_type": "execute_result"
    }
   ],
   "source": [
    "my_array1"
   ]
  },
  {
   "cell_type": "code",
   "execution_count": 32,
   "id": "bd7dd03e",
   "metadata": {},
   "outputs": [
    {
     "data": {
      "text/plain": [
       "array([1, 2, 3, 5])"
      ]
     },
     "execution_count": 32,
     "metadata": {},
     "output_type": "execute_result"
    }
   ],
   "source": [
    "my_array4"
   ]
  },
  {
   "cell_type": "code",
   "execution_count": null,
   "id": "29f3af5e",
   "metadata": {},
   "outputs": [],
   "source": [
    "# can't add same dimension, 1D, \n",
    "#but do not have the same number of elements."
   ]
  },
  {
   "cell_type": "code",
   "execution_count": 33,
   "id": "a580da03",
   "metadata": {},
   "outputs": [
    {
     "data": {
      "text/plain": [
       "array([[ 404,  524,  488,  452,  572],\n",
       "       [ 580,  660,  548, 1272,  772],\n",
       "       [ 960,  964, 1008, 1012, 1296],\n",
       "       [ 900,  504, 2908, 3712,  516]])"
      ]
     },
     "execution_count": 33,
     "metadata": {},
     "output_type": "execute_result"
    }
   ],
   "source": [
    "# multiply each element in the array by 4\n",
    "my_array*4"
   ]
  },
  {
   "cell_type": "code",
   "execution_count": 34,
   "id": "3b8a3027",
   "metadata": {},
   "outputs": [
    {
     "data": {
      "text/plain": [
       "array([[101, 131, 122, 113, 143],\n",
       "       [145, 165, 137, 318, 193],\n",
       "       [240, 241, 252, 253, 324],\n",
       "       [225, 126, 727, 928, 129]])"
      ]
     },
     "execution_count": 34,
     "metadata": {},
     "output_type": "execute_result"
    }
   ],
   "source": [
    "my_array"
   ]
  },
  {
   "cell_type": "code",
   "execution_count": 35,
   "id": "83d22f87",
   "metadata": {},
   "outputs": [
    {
     "data": {
      "text/plain": [
       "array([[   104060401,    294499921,    221533456,    163047361,\n",
       "           418161601],\n",
       "       [   442050625,    741200625,    352275361,  10226063376,\n",
       "          1387488001],\n",
       "       [  3317760000,   3373402561,   4032758016,   4097152081,\n",
       "         11019960576],\n",
       "       [  2562890625,    252047376, 279342903841, 741637881856,\n",
       "           276922881]])"
      ]
     },
     "execution_count": 35,
     "metadata": {},
     "output_type": "execute_result"
    }
   ],
   "source": [
    "#square, cube, etc of each element in array\n",
    "my_array**4"
   ]
  },
  {
   "cell_type": "code",
   "execution_count": 38,
   "id": "329b504d",
   "metadata": {},
   "outputs": [
    {
     "data": {
      "text/plain": [
       "array([False,  True,  True,  True, False])"
      ]
     },
     "execution_count": 38,
     "metadata": {},
     "output_type": "execute_result"
    }
   ],
   "source": [
    "# use numpy with comparison expressions\n",
    "my_array = np.array([34, 45, 67, 45, 23])\n",
    "\n",
    "# check which elements are greater than or equal to 40\n",
    "# the comparison condition gives boolean output\n",
    "new_array = my_array >= 40\n",
    "new_array"
   ]
  },
  {
   "cell_type": "code",
   "execution_count": 39,
   "id": "3c7e3ead",
   "metadata": {},
   "outputs": [
    {
     "data": {
      "text/plain": [
       "array([45, 67, 45])"
      ]
     },
     "execution_count": 39,
     "metadata": {},
     "output_type": "execute_result"
    }
   ],
   "source": [
    "#pass the above boolean array to the main array to fetch the values \n",
    "#that satisfy the comparison conditionmy_array[new_array]\n",
    "\n",
    "#elements greater than or equal to 40\n",
    "my_array[new_array]"
   ]
  },
  {
   "cell_type": "code",
   "execution_count": 40,
   "id": "db77d057",
   "metadata": {},
   "outputs": [
    {
     "data": {
      "text/plain": [
       "array([34, 45, 67, 45, 23])"
      ]
     },
     "execution_count": 40,
     "metadata": {},
     "output_type": "execute_result"
    }
   ],
   "source": [
    "my_array"
   ]
  },
  {
   "cell_type": "code",
   "execution_count": 42,
   "id": "32fc53d1",
   "metadata": {},
   "outputs": [
    {
     "data": {
      "text/plain": [
       "array([45, 67, 45])"
      ]
     },
     "execution_count": 42,
     "metadata": {},
     "output_type": "execute_result"
    }
   ],
   "source": [
    "# rather than creating a separate array of booleans, \n",
    "#you can specify the comparison operation directly on the main array\n",
    "my_array[my_array >=40]"
   ]
  },
  {
   "cell_type": "code",
   "execution_count": 43,
   "id": "fbdab726",
   "metadata": {},
   "outputs": [
    {
     "data": {
      "text/plain": [
       "array([5, 7, 8, 2, 4])"
      ]
     },
     "execution_count": 43,
     "metadata": {},
     "output_type": "execute_result"
    }
   ],
   "source": [
    "#arithmetic functions in numpy\n",
    "my_array = np.array([5,7,8,2,4])\n",
    "my_array"
   ]
  },
  {
   "cell_type": "code",
   "execution_count": 44,
   "id": "fe55e3a5",
   "metadata": {},
   "outputs": [
    {
     "data": {
      "text/plain": [
       "26"
      ]
     },
     "execution_count": 44,
     "metadata": {},
     "output_type": "execute_result"
    }
   ],
   "source": [
    "#sum() function adds all the values in the array and gives a scalar output\n",
    "#add all the elements\n",
    "#calling the sum() method from my_array CLASS\n",
    "my_array.sum()"
   ]
  },
  {
   "cell_type": "code",
   "execution_count": 47,
   "id": "f690a12c",
   "metadata": {},
   "outputs": [
    {
     "data": {
      "text/plain": [
       "26"
      ]
     },
     "execution_count": 47,
     "metadata": {},
     "output_type": "execute_result"
    }
   ],
   "source": [
    "# alternative taking np sum()function and apply it to my_array\n",
    "np.sum(my_array)"
   ]
  },
  {
   "cell_type": "code",
   "execution_count": 45,
   "id": "6eb2eb18",
   "metadata": {},
   "outputs": [
    {
     "data": {
      "text/plain": [
       "2"
      ]
     },
     "execution_count": 45,
     "metadata": {},
     "output_type": "execute_result"
    }
   ],
   "source": [
    "#min() function finds the lowest value in the array\n",
    "my_array.min()"
   ]
  },
  {
   "cell_type": "code",
   "execution_count": 48,
   "id": "1b287fc3",
   "metadata": {},
   "outputs": [
    {
     "data": {
      "text/plain": [
       "2"
      ]
     },
     "execution_count": 48,
     "metadata": {},
     "output_type": "execute_result"
    }
   ],
   "source": [
    "#alternate min()\n",
    "np.min(my_array)"
   ]
  },
  {
   "cell_type": "code",
   "execution_count": 46,
   "id": "77a81156",
   "metadata": {},
   "outputs": [
    {
     "data": {
      "text/plain": [
       "array([125, 343, 512,   8,  64])"
      ]
     },
     "execution_count": 46,
     "metadata": {},
     "output_type": "execute_result"
    }
   ],
   "source": [
    "#power() function raises the numbers in the array to the given value'\n",
    "# get the cube of the elements\n",
    "np.power(my_array, 3)"
   ]
  },
  {
   "cell_type": "code",
   "execution_count": 50,
   "id": "b6d3f50e",
   "metadata": {},
   "outputs": [
    {
     "data": {
      "text/plain": [
       "array([125, 343, 512,   8,  64])"
      ]
     },
     "execution_count": 50,
     "metadata": {},
     "output_type": "execute_result"
    }
   ],
   "source": [
    "my_array**3"
   ]
  },
  {
   "cell_type": "code",
   "execution_count": 52,
   "id": "ed77d375",
   "metadata": {},
   "outputs": [
    {
     "data": {
      "text/plain": [
       "array([11, 22, 13, 23, 22, 12])"
      ]
     },
     "execution_count": 52,
     "metadata": {},
     "output_type": "execute_result"
    }
   ],
   "source": [
    "#concatenation of array- arrays cab be concatenated only if they \n",
    "# have the same shape, except in the dimension corresponding to \n",
    "#the axis of concatenation\n",
    "\n",
    "#concate two 1D array\n",
    "array_x = np.array([11, 22, 13])\n",
    "array_y = np.array([23, 22, 12])\n",
    "np.concatenate([array_x, array_y])"
   ]
  },
  {
   "cell_type": "code",
   "execution_count": 53,
   "id": "e3435a05",
   "metadata": {},
   "outputs": [
    {
     "name": "stdout",
     "output_type": "stream",
     "text": [
      "[11 22 13 23 22 12 23 45]\n"
     ]
    }
   ],
   "source": [
    "# concat more than 2 arrays at once\n",
    "array_z = np.array([23, 45])\n",
    "print(np.concatenate([array_x, array_y, array_z]))"
   ]
  },
  {
   "cell_type": "code",
   "execution_count": 55,
   "id": "5c4054a9",
   "metadata": {},
   "outputs": [
    {
     "data": {
      "text/plain": [
       "array([[1, 2, 3],\n",
       "       [4, 5, 6]])"
      ]
     },
     "execution_count": 55,
     "metadata": {},
     "output_type": "execute_result"
    }
   ],
   "source": [
    "#concatenate 2D array\n",
    "my_array = np.array([[1,2,3],[4,5,6]])\n",
    "my_array"
   ]
  },
  {
   "cell_type": "code",
   "execution_count": 56,
   "id": "d2969c8b",
   "metadata": {},
   "outputs": [
    {
     "data": {
      "text/plain": [
       "array([[1, 2, 3],\n",
       "       [4, 5, 6],\n",
       "       [1, 2, 3],\n",
       "       [4, 5, 6]])"
      ]
     },
     "execution_count": 56,
     "metadata": {},
     "output_type": "execute_result"
    }
   ],
   "source": [
    "#concatenate along first axis\n",
    "#by default concatenate() is along 'axis = 0'\n",
    "# axis 0 is rows\n",
    "np.concatenate([my_array,my_array])"
   ]
  },
  {
   "cell_type": "code",
   "execution_count": 57,
   "id": "6d6f35ce",
   "metadata": {},
   "outputs": [
    {
     "data": {
      "text/plain": [
       "array([[1, 2, 3, 1, 2, 3],\n",
       "       [4, 5, 6, 4, 5, 6]])"
      ]
     },
     "execution_count": 57,
     "metadata": {},
     "output_type": "execute_result"
    }
   ],
   "source": [
    "#concatenate along the second axis\n",
    "# axis 1 is the columns\n",
    "np.concatenate([my_array, my_array], axis=1)"
   ]
  },
  {
   "cell_type": "code",
   "execution_count": null,
   "id": "8d843846",
   "metadata": {},
   "outputs": [],
   "source": [
    "#nb- you can not concatenate arrays with different dimensions"
   ]
  },
  {
   "cell_type": "code",
   "execution_count": null,
   "id": "2999aabc",
   "metadata": {},
   "outputs": [],
   "source": [
    "#splitting of array is the inverse of concatenate\n",
    "#splitting splits the array into multiple sub_arrays.  \n",
    "# split is implemented by functions split(), hsplit()"
   ]
  },
  {
   "cell_type": "code",
   "execution_count": 58,
   "id": "7f1fcb03",
   "metadata": {},
   "outputs": [
    {
     "data": {
      "text/plain": [
       "[array([0, 1, 2, 3]), array([4, 5, 6, 7])]"
      ]
     },
     "execution_count": 58,
     "metadata": {},
     "output_type": "execute_result"
    }
   ],
   "source": [
    "#split() the array unto sub-arrays\n",
    "array_x = np.arange(8)\n",
    "np.split(array_x, 2)"
   ]
  },
  {
   "cell_type": "code",
   "execution_count": 60,
   "id": "3b686d87",
   "metadata": {},
   "outputs": [
    {
     "name": "stdout",
     "output_type": "stream",
     "text": [
      "[array([0, 1, 2, 3, 4]), array([5, 6]), array([7])]\n"
     ]
    }
   ],
   "source": [
    "#split the 1D array at positions indicated, at 5th and 7 indices\n",
    "array_y=np.split(array_x,[5,7])\n",
    "print(array_y)"
   ]
  },
  {
   "cell_type": "code",
   "execution_count": 61,
   "id": "be97a211",
   "metadata": {},
   "outputs": [
    {
     "ename": "ValueError",
     "evalue": "array split does not result in an equal division",
     "output_type": "error",
     "traceback": [
      "\u001b[0;31m---------------------------------------------------------------------------\u001b[0m",
      "\u001b[0;31mValueError\u001b[0m                                Traceback (most recent call last)",
      "Input \u001b[0;32mIn [61]\u001b[0m, in \u001b[0;36m<cell line: 2>\u001b[0;34m()\u001b[0m\n\u001b[1;32m      1\u001b[0m \u001b[38;5;66;03m#split 'array_x' into 3 sub-arrays\u001b[39;00m\n\u001b[0;32m----> 2\u001b[0m \u001b[43mnp\u001b[49m\u001b[38;5;241;43m.\u001b[39;49m\u001b[43msplit\u001b[49m\u001b[43m(\u001b[49m\u001b[43marray_x\u001b[49m\u001b[43m,\u001b[49m\u001b[43m \u001b[49m\u001b[38;5;241;43m3\u001b[39;49m\u001b[43m)\u001b[49m\n",
      "File \u001b[0;32m<__array_function__ internals>:5\u001b[0m, in \u001b[0;36msplit\u001b[0;34m(*args, **kwargs)\u001b[0m\n",
      "File \u001b[0;32m/opt/homebrew/anaconda3/lib/python3.9/site-packages/numpy/lib/shape_base.py:872\u001b[0m, in \u001b[0;36msplit\u001b[0;34m(ary, indices_or_sections, axis)\u001b[0m\n\u001b[1;32m    870\u001b[0m     N \u001b[38;5;241m=\u001b[39m ary\u001b[38;5;241m.\u001b[39mshape[axis]\n\u001b[1;32m    871\u001b[0m     \u001b[38;5;28;01mif\u001b[39;00m N \u001b[38;5;241m%\u001b[39m sections:\n\u001b[0;32m--> 872\u001b[0m         \u001b[38;5;28;01mraise\u001b[39;00m \u001b[38;5;167;01mValueError\u001b[39;00m(\n\u001b[1;32m    873\u001b[0m             \u001b[38;5;124m'\u001b[39m\u001b[38;5;124marray split does not result in an equal division\u001b[39m\u001b[38;5;124m'\u001b[39m) \u001b[38;5;28;01mfrom\u001b[39;00m \u001b[38;5;28mNone\u001b[39m\n\u001b[1;32m    874\u001b[0m \u001b[38;5;28;01mreturn\u001b[39;00m array_split(ary, indices_or_sections, axis)\n",
      "\u001b[0;31mValueError\u001b[0m: array split does not result in an equal division"
     ]
    }
   ],
   "source": [
    "#split 'array_x' into 3 sub-arrays\n",
    "np.split(array_x, 3)"
   ]
  },
  {
   "cell_type": "code",
   "execution_count": null,
   "id": "718fc1c5",
   "metadata": {},
   "outputs": [],
   "source": [
    "#error due to the # of dimensions needs to be evenly split \n",
    "#(arrays need to be equally sized)"
   ]
  },
  {
   "cell_type": "code",
   "execution_count": 63,
   "id": "d7027352",
   "metadata": {},
   "outputs": [
    {
     "data": {
      "text/plain": [
       "array([0, 1, 2, 3, 4, 5, 6, 7, 8])"
      ]
     },
     "execution_count": 63,
     "metadata": {},
     "output_type": "execute_result"
    }
   ],
   "source": [
    "array_zz = np.arange(9)\n",
    "array_zz"
   ]
  },
  {
   "cell_type": "code",
   "execution_count": 64,
   "id": "10db4266",
   "metadata": {},
   "outputs": [
    {
     "data": {
      "text/plain": [
       "[array([0, 1, 2]), array([3, 4, 5]), array([6, 7, 8])]"
      ]
     },
     "execution_count": 64,
     "metadata": {},
     "output_type": "execute_result"
    }
   ],
   "source": [
    "np.split(array_zz, 3)"
   ]
  },
  {
   "cell_type": "code",
   "execution_count": 65,
   "id": "b219ae49",
   "metadata": {},
   "outputs": [
    {
     "data": {
      "text/plain": [
       "[array([23]), array([45]), array([], dtype=int64)]"
      ]
     },
     "execution_count": 65,
     "metadata": {},
     "output_type": "execute_result"
    }
   ],
   "source": [
    "#alternative\n",
    "#split 'array_x' into 3 sub-arrays\n",
    "# the split will not be equal\n",
    "#split \"array_x\" into 3 sub-arrays using 'array_split'\n",
    "np.array_split(array_z, 3)"
   ]
  },
  {
   "cell_type": "code",
   "execution_count": null,
   "id": "d6e6fa39",
   "metadata": {},
   "outputs": [],
   "source": [
    "#above didn't have 3 elements, so the last was an empty array!"
   ]
  },
  {
   "cell_type": "code",
   "execution_count": 66,
   "id": "f93e251c",
   "metadata": {},
   "outputs": [
    {
     "data": {
      "text/plain": [
       "[array([0, 1, 2]), array([3, 4, 5]), array([6, 7])]"
      ]
     },
     "execution_count": 66,
     "metadata": {},
     "output_type": "execute_result"
    }
   ],
   "source": [
    "np.array_split(array_x, 3)"
   ]
  },
  {
   "cell_type": "code",
   "execution_count": 67,
   "id": "d241e312",
   "metadata": {},
   "outputs": [
    {
     "data": {
      "text/plain": [
       "array([[ 0.,  1.,  2.,  3.,  4.],\n",
       "       [ 5.,  6.,  7.,  8.,  9.],\n",
       "       [10., 11., 12., 13., 14.],\n",
       "       [15., 16., 17., 18., 19.]])"
      ]
     },
     "execution_count": 67,
     "metadata": {},
     "output_type": "execute_result"
    }
   ],
   "source": [
    "#vsplit() function is used to split an array into multiple sub arrays vertically (row-wise)\n",
    "#v=rows\n",
    "my_array = np.arange(20.0).reshape(4,5)\n",
    "my_array"
   ]
  },
  {
   "cell_type": "code",
   "execution_count": null,
   "id": "e0a360e7",
   "metadata": {},
   "outputs": [],
   "source": [
    "#above explanation\n",
    "#reshape (4, 5) = 4 rows and 5 columns"
   ]
  },
  {
   "cell_type": "code",
   "execution_count": 68,
   "id": "c41b2b98",
   "metadata": {},
   "outputs": [
    {
     "data": {
      "text/plain": [
       "[array([[0., 1., 2., 3., 4.],\n",
       "        [5., 6., 7., 8., 9.]]),\n",
       " array([[10., 11., 12., 13., 14.],\n",
       "        [15., 16., 17., 18., 19.]])]"
      ]
     },
     "execution_count": 68,
     "metadata": {},
     "output_type": "execute_result"
    }
   ],
   "source": [
    "np.vsplit(my_array, 2)"
   ]
  },
  {
   "cell_type": "code",
   "execution_count": 71,
   "id": "57091568",
   "metadata": {},
   "outputs": [
    {
     "data": {
      "text/plain": [
       "array([[ 0.,  1.,  2.,  3.],\n",
       "       [ 4.,  5.,  6.,  7.],\n",
       "       [ 8.,  9., 10., 11.],\n",
       "       [12., 13., 14., 15.]])"
      ]
     },
     "execution_count": 71,
     "metadata": {},
     "output_type": "execute_result"
    }
   ],
   "source": [
    "#hsplit is used to split an array into multiple sub_arrays \n",
    "#horizontally (column-wise)\n",
    "my_array = np.arange(16.0).reshape(4,4)\n",
    "my_array"
   ]
  },
  {
   "cell_type": "code",
   "execution_count": 72,
   "id": "881953b0",
   "metadata": {},
   "outputs": [
    {
     "data": {
      "text/plain": [
       "[array([[ 0.,  1.],\n",
       "        [ 4.,  5.],\n",
       "        [ 8.,  9.],\n",
       "        [12., 13.]]),\n",
       " array([[ 2.,  3.],\n",
       "        [ 6.,  7.],\n",
       "        [10., 11.],\n",
       "        [14., 15.]])]"
      ]
     },
     "execution_count": 72,
     "metadata": {},
     "output_type": "execute_result"
    }
   ],
   "source": [
    "np.hsplit(my_array, 2)"
   ]
  },
  {
   "cell_type": "code",
   "execution_count": null,
   "id": "9c5cf116",
   "metadata": {},
   "outputs": [],
   "source": [
    "#Data Structures\n",
    "#Pandas has 2 data structures as follows:\n",
    "    #1. A Series is 1-dimensional labeled array and holds data of any type\n",
    "    #(integer, string, boolean, float, python objects)\n",
    "    # its axis labels are collectively called and index\n",
    "    #2. DataFrame is a 2-dimensional labeled data structure with columns.\n",
    "    "
   ]
  },
  {
   "cell_type": "code",
   "execution_count": null,
   "id": "d83321b7",
   "metadata": {},
   "outputs": [],
   "source": [
    "#Panda Series\n",
    "# Intro to Panda Series and  Creating Series\n",
    "#pandas Series is a one-dimensial labeled array capable of holding any \n",
    "#type of data\n",
    "#Series a sequence of homegeneous data types similar to array, list, or\n",
    "#column in a table.\n",
    "# it will  assign a labeled index to each item in a series.  \n",
    "#By default, each item will receive an index label from 0 to N, \n",
    "#where N is the length of the Series minus 1."
   ]
  },
  {
   "cell_type": "code",
   "execution_count": 76,
   "id": "91731d73",
   "metadata": {},
   "outputs": [
    {
     "data": {
      "text/plain": [
       "0      1\n",
       "1      6\n",
       "2     11\n",
       "3     16\n",
       "4     21\n",
       "5     26\n",
       "6     31\n",
       "7     36\n",
       "8     41\n",
       "9     46\n",
       "10    51\n",
       "11    56\n",
       "12    61\n",
       "13    66\n",
       "14    71\n",
       "15    76\n",
       "16    81\n",
       "17    86\n",
       "18    91\n",
       "19    96\n",
       "dtype: int64"
      ]
     },
     "execution_count": 76,
     "metadata": {},
     "output_type": "execute_result"
    }
   ],
   "source": [
    "#create a numeric series\n",
    "#note that the range does not have np. or pd. range...\n",
    "# it is python builtin function\n",
    "index position and element value\n",
    "numbers = range(1,100, 5)\n",
    "#length of the series-1\n",
    "pd.Series(numbers)\n",
    "# in python, the row names are called index"
   ]
  },
  {
   "cell_type": "code",
   "execution_count": 77,
   "id": "9ef15c41",
   "metadata": {},
   "outputs": [
    {
     "data": {
      "text/plain": [
       "0     hi\n",
       "1    how\n",
       "2    are\n",
       "3    you\n",
       "4      ?\n",
       "dtype: object"
      ]
     },
     "execution_count": 77,
     "metadata": {},
     "output_type": "execute_result"
    }
   ],
   "source": [
    "#create an object series\n",
    "string = 'hi', 'how', 'are', 'you','?'\n",
    "pd.Series(string)"
   ]
  },
  {
   "cell_type": "code",
   "execution_count": 78,
   "id": "729a8d20",
   "metadata": {},
   "outputs": [
    {
     "data": {
      "text/plain": [
       "0               345\n",
       "1            London\n",
       "2              34.5\n",
       "3            -34.45\n",
       "4    Happy Birthday\n",
       "dtype: object"
      ]
     },
     "execution_count": 78,
     "metadata": {},
     "output_type": "execute_result"
    }
   ],
   "source": [
    "#create a Series with both numeric and string values\n",
    "# numeric values treated as object\n",
    "s= pd.Series([345, 'London', 34.5, -34.45, 'Happy Birthday'])\n",
    "s"
   ]
  },
  {
   "cell_type": "code",
   "execution_count": 79,
   "id": "8b5bdd1e",
   "metadata": {},
   "outputs": [
    {
     "data": {
      "text/plain": [
       "maths             60\n",
       "science           89\n",
       "english           74\n",
       "social science    86\n",
       "dtype: int64"
      ]
     },
     "execution_count": 79,
     "metadata": {},
     "output_type": "execute_result"
    }
   ],
   "source": [
    "#set index values fro a Series\n",
    "marks = [60, 89, 74, 86]\n",
    "subject = ['maths', 'science', 'english', 'social science']\n",
    "\n",
    "pd.Series(marks, index = subject)"
   ]
  },
  {
   "cell_type": "code",
   "execution_count": 81,
   "id": "754dd345",
   "metadata": {},
   "outputs": [
    {
     "data": {
      "text/plain": [
       "maths             60\n",
       "science           89\n",
       "english           76\n",
       "social science    86\n",
       "dtype: int64"
      ]
     },
     "execution_count": 81,
     "metadata": {},
     "output_type": "execute_result"
    }
   ],
   "source": [
    "#create a Series from a dictionary\n",
    "# on passing a dict, the index in the resulting Series will have \n",
    "#the dict's keys in sorted order\n",
    "data = {'maths':60, 'science':89, 'english':76, 'social science': 86}\n",
    "\n",
    "pd.Series(data)"
   ]
  },
  {
   "cell_type": "code",
   "execution_count": 84,
   "id": "f38d42b0",
   "metadata": {},
   "outputs": [
    {
     "name": "stdout",
     "output_type": "stream",
     "text": [
      "maths             60.0\n",
      "science           89.0\n",
      "art and craft      NaN\n",
      "social science    86.0\n",
      "dtype: float64\n"
     ]
    }
   ],
   "source": [
    "#Series with missing values\n",
    "#if we pass a key that us not defined then its value will be NAN\n",
    "subject = ['maths', 'science', 'art and craft', 'social science']\n",
    "marks_series =pd.Series(data, index = subject)\n",
    "print(marks_series)"
   ]
  },
  {
   "cell_type": "code",
   "execution_count": 85,
   "id": "5a774c84",
   "metadata": {},
   "outputs": [
    {
     "data": {
      "text/plain": [
       "maths             False\n",
       "science           False\n",
       "art and craft      True\n",
       "social science    False\n",
       "dtype: bool"
      ]
     },
     "execution_count": 85,
     "metadata": {},
     "output_type": "execute_result"
    }
   ],
   "source": [
    "#manipulating Series\n",
    "# to check for null values using .isnull\n",
    "# False indicates that the value is not null\n",
    "marks_series.isnull()"
   ]
  },
  {
   "cell_type": "code",
   "execution_count": 86,
   "id": "c6891430",
   "metadata": {},
   "outputs": [
    {
     "data": {
      "text/plain": [
       "maths              True\n",
       "science            True\n",
       "art and craft     False\n",
       "social science     True\n",
       "dtype: bool"
      ]
     },
     "execution_count": 86,
     "metadata": {},
     "output_type": "execute_result"
    }
   ],
   "source": [
    "#check for null values\n",
    "#True indicates that the value is not null\n",
    "marks_series.notnull()"
   ]
  },
  {
   "cell_type": "code",
   "execution_count": 88,
   "id": "38b526e8",
   "metadata": {},
   "outputs": [
    {
     "data": {
      "text/plain": [
       "science           89.0\n",
       "social science    86.0\n",
       "dtype: float64"
      ]
     },
     "execution_count": 88,
     "metadata": {},
     "output_type": "execute_result"
    }
   ],
   "source": [
    "#to know the subjects in which marks score is more than 75\n",
    "# think like this \"in marks_series where marks_series is greater than 75\"\n",
    "# this will list only list actual values greater than 75\n",
    "marks_series[marks_series > 75]"
   ]
  },
  {
   "cell_type": "code",
   "execution_count": 87,
   "id": "ede9a439",
   "metadata": {},
   "outputs": [
    {
     "data": {
      "text/plain": [
       "maths             False\n",
       "science            True\n",
       "art and craft     False\n",
       "social science     True\n",
       "dtype: bool"
      ]
     },
     "execution_count": 87,
     "metadata": {},
     "output_type": "execute_result"
    }
   ],
   "source": [
    "# this will go through the Series and give you a boolean for each element\n",
    "marks_series>75"
   ]
  },
  {
   "cell_type": "code",
   "execution_count": 89,
   "id": "0c8de0a5",
   "metadata": {},
   "outputs": [
    {
     "data": {
      "text/plain": [
       "maths             60.0\n",
       "science           89.0\n",
       "art and craft     68.0\n",
       "social science    86.0\n",
       "dtype: float64"
      ]
     },
     "execution_count": 89,
     "metadata": {},
     "output_type": "execute_result"
    }
   ],
   "source": [
    "# assign 68 marks to 'art and craft'\n",
    "marks_series['art and craft'] = 68\n",
    "marks_series"
   ]
  },
  {
   "cell_type": "code",
   "execution_count": 91,
   "id": "4332079a",
   "metadata": {},
   "outputs": [
    {
     "data": {
      "text/plain": [
       "maths             60.0\n",
       "science           98.0\n",
       "art and craft     68.0\n",
       "social science    86.0\n",
       "dtype: float64"
      ]
     },
     "execution_count": 91,
     "metadata": {},
     "output_type": "execute_result"
    }
   ],
   "source": [
    "marks_series['science'] = 98\n",
    "marks_series"
   ]
  },
  {
   "cell_type": "code",
   "execution_count": 92,
   "id": "ebd7a767",
   "metadata": {},
   "outputs": [
    {
     "data": {
      "text/plain": [
       "False"
      ]
     },
     "execution_count": 92,
     "metadata": {},
     "output_type": "execute_result"
    }
   ],
   "source": [
    "# check whether maths is equal to 73\n",
    "marks_series['maths']==73"
   ]
  },
  {
   "cell_type": "code",
   "execution_count": 93,
   "id": "6401dbc2",
   "metadata": {},
   "outputs": [
    {
     "data": {
      "text/plain": [
       "False"
      ]
     },
     "execution_count": 93,
     "metadata": {},
     "output_type": "execute_result"
    }
   ],
   "source": [
    "#alternative\n",
    "marks_series.maths ==73"
   ]
  },
  {
   "cell_type": "code",
   "execution_count": 95,
   "id": "344aeb29",
   "metadata": {},
   "outputs": [
    {
     "data": {
      "text/plain": [
       "0    23.0\n",
       "1    45.0\n",
       "2     NaN\n",
       "3    41.0\n",
       "4    23.0\n",
       "5    34.0\n",
       "6    55.0\n",
       "7     NaN\n",
       "8    34.0\n",
       "9    20.0\n",
       "dtype: float64"
      ]
     },
     "execution_count": 95,
     "metadata": {},
     "output_type": "execute_result"
    }
   ],
   "source": [
    "#sorting a numeric sequence\n",
    "values = pd.Series ([23, 45, np.nan, 41, 23, 34, 55, np.nan, 34, 20])\n",
    "values"
   ]
  },
  {
   "cell_type": "code",
   "execution_count": null,
   "id": "59aaaf6e",
   "metadata": {},
   "outputs": [],
   "source": []
  },
  {
   "cell_type": "code",
   "execution_count": null,
   "id": "0785d96a",
   "metadata": {},
   "outputs": [],
   "source": []
  },
  {
   "cell_type": "code",
   "execution_count": null,
   "id": "3d29e288",
   "metadata": {},
   "outputs": [],
   "source": []
  },
  {
   "cell_type": "code",
   "execution_count": 96,
   "id": "95f6075f",
   "metadata": {},
   "outputs": [
    {
     "data": {
      "text/plain": [
       "9    20.0\n",
       "0    23.0\n",
       "4    23.0\n",
       "5    34.0\n",
       "8    34.0\n",
       "3    41.0\n",
       "1    45.0\n",
       "6    55.0\n",
       "2     NaN\n",
       "7     NaN\n",
       "dtype: float64"
      ]
     },
     "execution_count": 96,
     "metadata": {},
     "output_type": "execute_result"
    }
   ],
   "source": [
    "#ascending order\n",
    "values.sort_values(ascending = True)"
   ]
  },
  {
   "cell_type": "code",
   "execution_count": 97,
   "id": "a9e95f7f",
   "metadata": {},
   "outputs": [
    {
     "data": {
      "text/plain": [
       "6    55.0\n",
       "1    45.0\n",
       "3    41.0\n",
       "5    34.0\n",
       "8    34.0\n",
       "0    23.0\n",
       "4    23.0\n",
       "9    20.0\n",
       "2     NaN\n",
       "7     NaN\n",
       "dtype: float64"
      ]
     },
     "execution_count": 97,
     "metadata": {},
     "output_type": "execute_result"
    }
   ],
   "source": [
    "#descending order\n",
    "values.sort_values(ascending = False)"
   ]
  },
  {
   "cell_type": "code",
   "execution_count": 98,
   "id": "a3c89d88",
   "metadata": {},
   "outputs": [
    {
     "data": {
      "text/plain": [
       "0    a\n",
       "1    j\n",
       "2    d\n",
       "3    f\n",
       "4    t\n",
       "5    a\n",
       "dtype: object"
      ]
     },
     "execution_count": 98,
     "metadata": {},
     "output_type": "execute_result"
    }
   ],
   "source": [
    "#sorting a categorical series\n",
    "string_values = pd.Series(['a', 'j', 'd', 'f', 't', 'a'])\n",
    "string_values"
   ]
  },
  {
   "cell_type": "code",
   "execution_count": 99,
   "id": "fbfed10a",
   "metadata": {},
   "outputs": [
    {
     "data": {
      "text/plain": [
       "0    a\n",
       "5    a\n",
       "2    d\n",
       "3    f\n",
       "1    j\n",
       "4    t\n",
       "dtype: object"
      ]
     },
     "execution_count": 99,
     "metadata": {},
     "output_type": "execute_result"
    }
   ],
   "source": [
    "#ascending order\n",
    "string_values.sort_values(ascending=True)"
   ]
  },
  {
   "cell_type": "code",
   "execution_count": 100,
   "id": "dab407be",
   "metadata": {},
   "outputs": [
    {
     "data": {
      "text/plain": [
       "4    t\n",
       "1    j\n",
       "3    f\n",
       "2    d\n",
       "0    a\n",
       "5    a\n",
       "dtype: object"
      ]
     },
     "execution_count": 100,
     "metadata": {},
     "output_type": "execute_result"
    }
   ],
   "source": [
    "#descending order\n",
    "string_values.sort_values(ascending=False)"
   ]
  },
  {
   "cell_type": "code",
   "execution_count": 102,
   "id": "f6ef287d",
   "metadata": {},
   "outputs": [
    {
     "data": {
      "text/plain": [
       "maths             1.0\n",
       "science           4.0\n",
       "art and craft     2.0\n",
       "social science    3.0\n",
       "dtype: float64"
      ]
     },
     "execution_count": 102,
     "metadata": {},
     "output_type": "execute_result"
    }
   ],
   "source": [
    "#rank a Series\n",
    "#recall the marks_series\n",
    "marks_series.rank(ascending=True, pct=False)"
   ]
  },
  {
   "cell_type": "code",
   "execution_count": null,
   "id": "426d09aa",
   "metadata": {},
   "outputs": [],
   "source": [
    "#Pandas DataFrames\n",
    "#intro to df and creating df\n",
    "# A DF is a tabular representtion of data containing an ordered \n",
    "#collection of columns, each of which can be a different type \n",
    "#(numeric, string, boolean, and so on)\n",
    "#The DF has a row and column index; it can be thought of as a dict of \n",
    "#Series\n",
    "#all sharing the same index.  In a DF, the dtat is stored as one or more\n",
    "#2-dimensional blocks rather than a list, dict, or some other collection\n",
    "#of 1-dimensional arrays\n",
    "#while a dataframe is physically 2-dimensional, it can be used to \n",
    "#represent  higher dimensional data in a tabular format using hierarchical\n",
    "#indexing"
   ]
  },
  {
   "cell_type": "code",
   "execution_count": 104,
   "id": "47098abb",
   "metadata": {},
   "outputs": [
    {
     "name": "stdout",
     "output_type": "stream",
     "text": [
      "    subject  marks  cgpa\n",
      "0     maths     45   2.5\n",
      "1   history     65   3.0\n",
      "2   science     78   3.5\n",
      "3   english     65   2.0\n",
      "4  geograpy     80   4.0\n",
      "5       art     78   4.0\n"
     ]
    }
   ],
   "source": [
    "#creating a data frame from a dictionary\n",
    "data = {'subject': ['maths', 'history', 'science', 'english', 'geograpy', 'art'], \n",
    "        'marks': (45, 65, 78, 65, 80, 78),\n",
    "        'cgpa': [2.5, 3.0, 3.5, 2.0, 4.0, 4.0]}\n",
    "\n",
    "df = pd.DataFrame(data)\n",
    "print(df)"
   ]
  },
  {
   "cell_type": "code",
   "execution_count": null,
   "id": "55cb8071",
   "metadata": {},
   "outputs": [],
   "source": [
    "# ABOVE the resulting df is index automatically, 'marks' are in a tuple"
   ]
  },
  {
   "cell_type": "code",
   "execution_count": 111,
   "id": "a096b192",
   "metadata": {},
   "outputs": [],
   "source": [
    "# to create a df from a series\n",
    "subject = pd.Series(['maths', \n",
    "                      'history', \n",
    "                      'science', \n",
    "                      'english', \n",
    "                      'geograpy', \n",
    "                      'art'])\n",
    "marks = pd.Series([45, 65, 78, 65, 80, 78])\n",
    "cgpa = pd.Series([2.5, 3.0, 3.5, 2.0, 4.0, 4.0])"
   ]
  },
  {
   "cell_type": "code",
   "execution_count": 112,
   "id": "0832dbf2",
   "metadata": {},
   "outputs": [
    {
     "data": {
      "text/html": [
       "<div>\n",
       "<style scoped>\n",
       "    .dataframe tbody tr th:only-of-type {\n",
       "        vertical-align: middle;\n",
       "    }\n",
       "\n",
       "    .dataframe tbody tr th {\n",
       "        vertical-align: top;\n",
       "    }\n",
       "\n",
       "    .dataframe thead th {\n",
       "        text-align: right;\n",
       "    }\n",
       "</style>\n",
       "<table border=\"1\" class=\"dataframe\">\n",
       "  <thead>\n",
       "    <tr style=\"text-align: right;\">\n",
       "      <th></th>\n",
       "      <th>0</th>\n",
       "      <th>1</th>\n",
       "      <th>2</th>\n",
       "      <th>3</th>\n",
       "      <th>4</th>\n",
       "      <th>5</th>\n",
       "    </tr>\n",
       "  </thead>\n",
       "  <tbody>\n",
       "    <tr>\n",
       "      <th>subject</th>\n",
       "      <td>maths</td>\n",
       "      <td>history</td>\n",
       "      <td>science</td>\n",
       "      <td>english</td>\n",
       "      <td>geograpy</td>\n",
       "      <td>art</td>\n",
       "    </tr>\n",
       "    <tr>\n",
       "      <th>marks</th>\n",
       "      <td>45</td>\n",
       "      <td>65</td>\n",
       "      <td>78</td>\n",
       "      <td>65</td>\n",
       "      <td>80</td>\n",
       "      <td>78</td>\n",
       "    </tr>\n",
       "    <tr>\n",
       "      <th>cgpa</th>\n",
       "      <td>2.5</td>\n",
       "      <td>3.0</td>\n",
       "      <td>3.5</td>\n",
       "      <td>2.0</td>\n",
       "      <td>4.0</td>\n",
       "      <td>4.0</td>\n",
       "    </tr>\n",
       "  </tbody>\n",
       "</table>\n",
       "</div>"
      ],
      "text/plain": [
       "             0        1        2        3         4    5\n",
       "subject  maths  history  science  english  geograpy  art\n",
       "marks       45       65       78       65        80   78\n",
       "cgpa       2.5      3.0      3.5      2.0       4.0  4.0"
      ]
     },
     "execution_count": 112,
     "metadata": {},
     "output_type": "execute_result"
    }
   ],
   "source": [
    "pd.DataFrame([subject, marks, cgpa], index = ['subject', 'marks', 'cgpa'])"
   ]
  },
  {
   "cell_type": "code",
   "execution_count": 113,
   "id": "70c229de",
   "metadata": {},
   "outputs": [
    {
     "data": {
      "text/html": [
       "<div>\n",
       "<style scoped>\n",
       "    .dataframe tbody tr th:only-of-type {\n",
       "        vertical-align: middle;\n",
       "    }\n",
       "\n",
       "    .dataframe tbody tr th {\n",
       "        vertical-align: top;\n",
       "    }\n",
       "\n",
       "    .dataframe thead th {\n",
       "        text-align: right;\n",
       "    }\n",
       "</style>\n",
       "<table border=\"1\" class=\"dataframe\">\n",
       "  <thead>\n",
       "    <tr style=\"text-align: right;\">\n",
       "      <th></th>\n",
       "      <th>subject</th>\n",
       "      <th>marks</th>\n",
       "      <th>cgpa</th>\n",
       "    </tr>\n",
       "  </thead>\n",
       "  <tbody>\n",
       "    <tr>\n",
       "      <th>0</th>\n",
       "      <td>maths</td>\n",
       "      <td>45</td>\n",
       "      <td>2.5</td>\n",
       "    </tr>\n",
       "    <tr>\n",
       "      <th>1</th>\n",
       "      <td>history</td>\n",
       "      <td>65</td>\n",
       "      <td>3.0</td>\n",
       "    </tr>\n",
       "    <tr>\n",
       "      <th>2</th>\n",
       "      <td>science</td>\n",
       "      <td>78</td>\n",
       "      <td>3.5</td>\n",
       "    </tr>\n",
       "    <tr>\n",
       "      <th>3</th>\n",
       "      <td>english</td>\n",
       "      <td>65</td>\n",
       "      <td>2.0</td>\n",
       "    </tr>\n",
       "    <tr>\n",
       "      <th>4</th>\n",
       "      <td>geograpy</td>\n",
       "      <td>80</td>\n",
       "      <td>4.0</td>\n",
       "    </tr>\n",
       "    <tr>\n",
       "      <th>5</th>\n",
       "      <td>art</td>\n",
       "      <td>78</td>\n",
       "      <td>4.0</td>\n",
       "    </tr>\n",
       "  </tbody>\n",
       "</table>\n",
       "</div>"
      ],
      "text/plain": [
       "    subject marks cgpa\n",
       "0     maths    45  2.5\n",
       "1   history    65  3.0\n",
       "2   science    78  3.5\n",
       "3   english    65  2.0\n",
       "4  geograpy    80  4.0\n",
       "5       art    78  4.0"
      ]
     },
     "execution_count": 113,
     "metadata": {},
     "output_type": "execute_result"
    }
   ],
   "source": [
    "#change to a vertical df use.T for transpose\n",
    "pd.DataFrame([subject, marks, cgpa], index = ['subject', 'marks', 'cgpa']).T"
   ]
  },
  {
   "cell_type": "code",
   "execution_count": 114,
   "id": "738680e7",
   "metadata": {},
   "outputs": [],
   "source": [
    "#create df from lists\n",
    "subject = ['maths','history','science','english','geograpy','art']\n",
    "marks = [45, 65, 78, 65, 80, 78]\n",
    "cgpa = [2.5, 3.0, 3.5, 2.0, 4.0, 4.0]"
   ]
  },
  {
   "cell_type": "code",
   "execution_count": 115,
   "id": "7645859d",
   "metadata": {},
   "outputs": [
    {
     "data": {
      "text/html": [
       "<div>\n",
       "<style scoped>\n",
       "    .dataframe tbody tr th:only-of-type {\n",
       "        vertical-align: middle;\n",
       "    }\n",
       "\n",
       "    .dataframe tbody tr th {\n",
       "        vertical-align: top;\n",
       "    }\n",
       "\n",
       "    .dataframe thead th {\n",
       "        text-align: right;\n",
       "    }\n",
       "</style>\n",
       "<table border=\"1\" class=\"dataframe\">\n",
       "  <thead>\n",
       "    <tr style=\"text-align: right;\">\n",
       "      <th></th>\n",
       "      <th>subject</th>\n",
       "      <th>marks</th>\n",
       "      <th>cgpa</th>\n",
       "    </tr>\n",
       "  </thead>\n",
       "  <tbody>\n",
       "    <tr>\n",
       "      <th>0</th>\n",
       "      <td>maths</td>\n",
       "      <td>45</td>\n",
       "      <td>2.5</td>\n",
       "    </tr>\n",
       "    <tr>\n",
       "      <th>1</th>\n",
       "      <td>history</td>\n",
       "      <td>65</td>\n",
       "      <td>3.0</td>\n",
       "    </tr>\n",
       "    <tr>\n",
       "      <th>2</th>\n",
       "      <td>science</td>\n",
       "      <td>78</td>\n",
       "      <td>3.5</td>\n",
       "    </tr>\n",
       "    <tr>\n",
       "      <th>3</th>\n",
       "      <td>english</td>\n",
       "      <td>65</td>\n",
       "      <td>2.0</td>\n",
       "    </tr>\n",
       "    <tr>\n",
       "      <th>4</th>\n",
       "      <td>geograpy</td>\n",
       "      <td>80</td>\n",
       "      <td>4.0</td>\n",
       "    </tr>\n",
       "    <tr>\n",
       "      <th>5</th>\n",
       "      <td>art</td>\n",
       "      <td>78</td>\n",
       "      <td>4.0</td>\n",
       "    </tr>\n",
       "  </tbody>\n",
       "</table>\n",
       "</div>"
      ],
      "text/plain": [
       "    subject marks cgpa\n",
       "0     maths    45  2.5\n",
       "1   history    65  3.0\n",
       "2   science    78  3.5\n",
       "3   english    65  2.0\n",
       "4  geograpy    80  4.0\n",
       "5       art    78  4.0"
      ]
     },
     "execution_count": 115,
     "metadata": {},
     "output_type": "execute_result"
    }
   ],
   "source": [
    "pd.DataFrame([subject, marks, cgpa], index = ['subject', 'marks', 'cgpa']).T"
   ]
  },
  {
   "cell_type": "raw",
   "id": "099c5397",
   "metadata": {},
   "source": [
    "#to read data from a csv file\n",
    "data = pd.read_csv('example.csv')"
   ]
  },
  {
   "cell_type": "code",
   "execution_count": null,
   "id": "020b1f1e",
   "metadata": {},
   "outputs": [],
   "source": []
  },
  {
   "cell_type": "code",
   "execution_count": null,
   "id": "369a01cc",
   "metadata": {},
   "outputs": [],
   "source": []
  },
  {
   "cell_type": "code",
   "execution_count": null,
   "id": "feda91ca",
   "metadata": {},
   "outputs": [],
   "source": []
  },
  {
   "cell_type": "code",
   "execution_count": null,
   "id": "208fdecd",
   "metadata": {},
   "outputs": [],
   "source": []
  },
  {
   "cell_type": "code",
   "execution_count": null,
   "id": "221d011d",
   "metadata": {},
   "outputs": [],
   "source": []
  },
  {
   "cell_type": "code",
   "execution_count": null,
   "id": "3f673815",
   "metadata": {},
   "outputs": [],
   "source": []
  },
  {
   "cell_type": "code",
   "execution_count": null,
   "id": "5581b49e",
   "metadata": {},
   "outputs": [],
   "source": []
  },
  {
   "cell_type": "code",
   "execution_count": null,
   "id": "938734bc",
   "metadata": {},
   "outputs": [],
   "source": []
  },
  {
   "cell_type": "code",
   "execution_count": null,
   "id": "88422216",
   "metadata": {},
   "outputs": [],
   "source": []
  },
  {
   "cell_type": "code",
   "execution_count": null,
   "id": "d627b8ff",
   "metadata": {},
   "outputs": [],
   "source": []
  },
  {
   "cell_type": "code",
   "execution_count": null,
   "id": "546c53ee",
   "metadata": {},
   "outputs": [],
   "source": []
  },
  {
   "cell_type": "code",
   "execution_count": null,
   "id": "d506734b",
   "metadata": {},
   "outputs": [],
   "source": []
  },
  {
   "cell_type": "code",
   "execution_count": null,
   "id": "11899d7d",
   "metadata": {},
   "outputs": [],
   "source": []
  },
  {
   "cell_type": "code",
   "execution_count": null,
   "id": "232359c5",
   "metadata": {},
   "outputs": [],
   "source": []
  },
  {
   "cell_type": "code",
   "execution_count": null,
   "id": "ead8d5fa",
   "metadata": {},
   "outputs": [],
   "source": []
  },
  {
   "cell_type": "code",
   "execution_count": null,
   "id": "08e666b2",
   "metadata": {},
   "outputs": [],
   "source": []
  },
  {
   "cell_type": "code",
   "execution_count": null,
   "id": "a7525528",
   "metadata": {},
   "outputs": [],
   "source": []
  },
  {
   "cell_type": "code",
   "execution_count": null,
   "id": "dfdd6b50",
   "metadata": {},
   "outputs": [],
   "source": []
  },
  {
   "cell_type": "code",
   "execution_count": null,
   "id": "98877e27",
   "metadata": {},
   "outputs": [],
   "source": []
  },
  {
   "cell_type": "code",
   "execution_count": null,
   "id": "d7746778",
   "metadata": {},
   "outputs": [],
   "source": []
  },
  {
   "cell_type": "code",
   "execution_count": null,
   "id": "82491876",
   "metadata": {},
   "outputs": [],
   "source": []
  },
  {
   "cell_type": "code",
   "execution_count": null,
   "id": "f9cc68a7",
   "metadata": {},
   "outputs": [],
   "source": []
  },
  {
   "cell_type": "code",
   "execution_count": null,
   "id": "77316968",
   "metadata": {},
   "outputs": [],
   "source": []
  },
  {
   "cell_type": "code",
   "execution_count": null,
   "id": "0d3b68bd",
   "metadata": {},
   "outputs": [],
   "source": []
  },
  {
   "cell_type": "code",
   "execution_count": null,
   "id": "7deafeff",
   "metadata": {},
   "outputs": [],
   "source": []
  },
  {
   "cell_type": "code",
   "execution_count": null,
   "id": "f4ea4f5a",
   "metadata": {},
   "outputs": [],
   "source": []
  },
  {
   "cell_type": "code",
   "execution_count": null,
   "id": "deef74a5",
   "metadata": {},
   "outputs": [],
   "source": []
  }
 ],
 "metadata": {
  "kernelspec": {
   "display_name": "Python 3 (ipykernel)",
   "language": "python",
   "name": "python3"
  },
  "language_info": {
   "codemirror_mode": {
    "name": "ipython",
    "version": 3
   },
   "file_extension": ".py",
   "mimetype": "text/x-python",
   "name": "python",
   "nbconvert_exporter": "python",
   "pygments_lexer": "ipython3",
   "version": "3.9.12"
  }
 },
 "nbformat": 4,
 "nbformat_minor": 5
}
